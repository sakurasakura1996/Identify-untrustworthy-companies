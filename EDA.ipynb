{
 "cells": [
  {
   "cell_type": "code",
   "execution_count": 1,
   "metadata": {
    "collapsed": true,
    "pycharm": {
     "is_executing": false
    }
   },
   "outputs": [],
   "source": [
    "import numpy as np\n",
    "import pandas as pd\n",
    "import seaborn as sns\n",
    "import lightgbm as lgb\n",
    "import matplotlib.pyplot as plt\n",
    "from sklearn.model_selection import KFold,StratifiedKFold"
   ]
  },
  {
   "cell_type": "code",
   "execution_count": 22,
   "outputs": [
    {
     "name": "stdout",
     "text": [
      "(14366, 178)\n(9578, 178)\n(14366, 2)\n",
      "失信企业的企业所得税平均值为：2.7869597243153725\n未失信企业的企业所得税平均值为：14.29915726686545\n失信企业的增值税平均值为：5.827341760034129\n未失信企业的增值税平均值为：36.76624298797144\n失信企业的印花税平均值为：0.09282506641225681\n未失信企业的印花税平均值为：1.1047133177257706\n"
     ],
     "output_type": "stream"
    }
   ],
   "source": [
    "# load data\n",
    "train_data_df = pd.read_csv(\"F:\\PycharmProjects\\ Identify-untrustworthy-companies\\\\train.csv\")\n",
    "print(train_data_df.shape)\n",
    "test_data_df = pd.read_csv(\"F:\\PycharmProjects\\ Identify-untrustworthy-companies\\\\test.csv\")\n",
    "print(test_data_df.shape)\n",
    "train_label_df = pd.read_csv(\"F:\\PycharmProjects\\ Identify-untrustworthy-companies\\\\train_label.csv\")\n",
    "print(train_label_df.shape)\n",
    "\n",
    "# train_data_df.head(2)\n",
    "# 看下失信企业和非失信企业的企业所得税的均值。\n",
    "train_data_df = pd.concat([train_data_df,train_label_df],axis=1)\n",
    "# train_data_df.head(2)\n",
    "# print(train_data_df.shape)\n",
    "\n",
    "print('失信企业的企业所得税平均值为：'+str(train_data_df[train_data_df['Label']==1]['企业所得税'].mean()))\n",
    "print('未失信企业的企业所得税平均值为：'+str(train_data_df[train_data_df['Label']==0]['企业所得税'].mean()))\n",
    "print('失信企业的增值税平均值为：'+str(train_data_df[train_data_df['Label']==1]['增值税'].mean()))\n",
    "print('未失信企业的增值税平均值为：'+str(train_data_df[train_data_df['Label']==0]['增值税'].mean()))\n",
    "print('失信企业的印花税平均值为：'+str(train_data_df[train_data_df['Label']==1]['印花税'].mean()))\n",
    "print('未失信企业的印花税平均值为：'+str(train_data_df[train_data_df['Label']==0]['印花税'].mean()))\n"
   ],
   "metadata": {
    "collapsed": false,
    "pycharm": {
     "name": "#%%\n",
     "is_executing": false
    }
   }
  },
  {
   "cell_type": "code",
   "execution_count": null,
   "outputs": [],
   "source": [
    "\n"
   ],
   "metadata": {
    "collapsed": false,
    "pycharm": {
     "name": "#%%\n"
    }
   }
  }
 ],
 "metadata": {
  "language_info": {
   "codemirror_mode": {
    "name": "ipython",
    "version": 2
   },
   "file_extension": ".py",
   "mimetype": "text/x-python",
   "name": "python",
   "nbconvert_exporter": "python",
   "pygments_lexer": "ipython2",
   "version": "2.7.6"
  },
  "kernelspec": {
   "name": "python3",
   "language": "python",
   "display_name": "Python 3"
  },
  "pycharm": {
   "stem_cell": {
    "cell_type": "raw",
    "source": [],
    "metadata": {
     "collapsed": false
    }
   }
  }
 },
 "nbformat": 4,
 "nbformat_minor": 0
}